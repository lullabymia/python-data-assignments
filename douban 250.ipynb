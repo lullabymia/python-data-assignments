{
 "cells": [
  {
   "cell_type": "code",
   "execution_count": 42,
   "metadata": {},
   "outputs": [],
   "source": [
    "def scraper(url): \n",
    "    import requests\n",
    "    r=requests.get(url)\n",
    "    import bs4\n",
    "    mypage = bs4.BeautifulSoup(r.text)\n",
    "    info=[]\n",
    "    allmovie=mypage.find('ol')\n",
    "    movie1=allmovie.find_all('li')\n",
    "    for i in movie1:\n",
    "        ts=i.find(attrs={'class': 'title'})\n",
    "        title=ts.text\n",
    "        rs=i.find(attrs={'class': 'rating_num'})\n",
    "        rate=rs.text\n",
    "        p1=i.find(attrs={'class':'star'})\n",
    "        p=p1.find_all('span')\n",
    "        number=p[3].text\n",
    "        d1=i.find('p')\n",
    "        d0=d1.text\n",
    "        director=d0.strip()\n",
    "        info.append(title+' '+rate+' '+number+' '+director)\n",
    "    newinfo=[]\n",
    "    for i in info:\n",
    "        newinfo.append(i.split())\n",
    "    return newinfo"
   ]
  },
  {
   "cell_type": "code",
   "execution_count": 43,
   "metadata": {},
   "outputs": [],
   "source": [
    "url25=('https://movie.douban.com/top250?start=0&filter=')"
   ]
  },
  {
   "cell_type": "code",
   "execution_count": 44,
   "metadata": {},
   "outputs": [],
   "source": [
    "d25=scraper(url25)"
   ]
  },
  {
   "cell_type": "code",
   "execution_count": 45,
   "metadata": {},
   "outputs": [],
   "source": [
    "url50=('https://movie.douban.com/top250?start=25&filter=')"
   ]
  },
  {
   "cell_type": "code",
   "execution_count": 46,
   "metadata": {},
   "outputs": [],
   "source": [
    "d50=scraper(url50)"
   ]
  },
  {
   "cell_type": "code",
   "execution_count": 47,
   "metadata": {},
   "outputs": [],
   "source": [
    "url75=('https://movie.douban.com/top250?start=50&filter=')\n",
    "d75=scraper(url75)"
   ]
  },
  {
   "cell_type": "code",
   "execution_count": 48,
   "metadata": {},
   "outputs": [],
   "source": [
    "url100=('https://movie.douban.com/top250?start=75&filter=')\n",
    "d100=scraper(url100)\n"
   ]
  },
  {
   "cell_type": "code",
   "execution_count": 49,
   "metadata": {},
   "outputs": [],
   "source": [
    "url125=('https://movie.douban.com/top250?start=100&filter=')\n",
    "d125=scraper(url125)\n"
   ]
  },
  {
   "cell_type": "code",
   "execution_count": 50,
   "metadata": {},
   "outputs": [],
   "source": [
    "\n",
    "url150=('https://movie.douban.com/top250?start=125&filter=')\n",
    "d150=scraper(url150)\n",
    "url175=('https://movie.douban.com/top250?start=150&filter=')\n",
    "d175=scraper(url175)\n",
    "url200=('https://movie.douban.com/top250?start=175&filter=')\n",
    "d200=scraper(url200)\n",
    "url225=('https://movie.douban.com/top250?start=200&filter=')\n",
    "d225=scraper(url225)\n",
    "url250=('https://movie.douban.com/top250?start=225&filter=')\n",
    "d250=scraper(url250)"
   ]
  },
  {
   "cell_type": "code",
   "execution_count": 51,
   "metadata": {},
   "outputs": [],
   "source": [
    "d=d25+d50+d75+d100+d125+d150+d175+d200+d225+d250"
   ]
  },
  {
   "cell_type": "code",
   "execution_count": null,
   "metadata": {},
   "outputs": [],
   "source": []
  },
  {
   "cell_type": "code",
   "execution_count": 54,
   "metadata": {},
   "outputs": [],
   "source": [
    "import csv\n",
    "with open('doubanall.csv','w')as f:\n",
    "    mywriter=csv.writer(f)\n",
    "    header=['movie','rate','comments',]\n",
    "    mywriter.writerow(header)\n",
    "    mywriter.writerows(d)\n",
    "f.close()"
   ]
  },
  {
   "cell_type": "code",
   "execution_count": null,
   "metadata": {},
   "outputs": [],
   "source": []
  }
 ],
 "metadata": {
  "kernelspec": {
   "display_name": "Python 3",
   "language": "python",
   "name": "python3"
  },
  "language_info": {
   "codemirror_mode": {
    "name": "ipython",
    "version": 3
   },
   "file_extension": ".py",
   "mimetype": "text/x-python",
   "name": "python",
   "nbconvert_exporter": "python",
   "pygments_lexer": "ipython3",
   "version": "3.7.0"
  }
 },
 "nbformat": 4,
 "nbformat_minor": 2
}
