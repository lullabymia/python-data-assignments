{
 "cells": [
  {
   "cell_type": "code",
   "execution_count": 10,
   "metadata": {},
   "outputs": [],
   "source": [
    "def scraper(url): \n",
    "    import requests\n",
    "    r=requests.get(url)\n",
    "    import bs4\n",
    "    mypage = bs4.BeautifulSoup(r.text)\n",
    "    info=[]\n",
    "    allmovie=mypage.find('ol')\n",
    "    movie1=allmovie.find_all('li')\n",
    "    for i in movie1:\n",
    "        title=i.find(attrs={'class': 'title'}).text\n",
    "        rate=i.find(attrs={'class': 'rating_num'}).text\n",
    "        p1=i.find(attrs={'class':'star'})\n",
    "        p=p1.find_all('span')\n",
    "        number=p[3].text\n",
    "        d1=i.find('p')\n",
    "        d0=d1.text\n",
    "        director=d0.strip()\n",
    "        info.append((title,rate,number,director)\n",
    "                    )\n",
    "    return info"
   ]
  },
  {
   "cell_type": "code",
   "execution_count": null,
   "metadata": {},
   "outputs": [],
   "source": []
  },
  {
   "cell_type": "code",
   "execution_count": 11,
   "metadata": {},
   "outputs": [],
   "source": [
    "data=[]\n",
    "i=0\n",
    "while i<10:\n",
    "    url=\"https://movie.douban.com/top250?start={}&filter=\".format(i*25)\n",
    "    data.extend(scraper(url))\n",
    "    import csv\n",
    "    with open('doubanfix.csv','w')as f:\n",
    "        mywriter=csv.writer(f)\n",
    "        mywriter.writerows(data)\n",
    "    f.close()\n",
    "    i=i+1"
   ]
  },
  {
   "cell_type": "code",
   "execution_count": null,
   "metadata": {},
   "outputs": [],
   "source": []
  },
  {
   "cell_type": "code",
   "execution_count": null,
   "metadata": {},
   "outputs": [],
   "source": []
  }
 ],
 "metadata": {
  "kernelspec": {
   "display_name": "Python 3",
   "language": "python",
   "name": "python3"
  },
  "language_info": {
   "codemirror_mode": {
    "name": "ipython",
    "version": 3
   },
   "file_extension": ".py",
   "mimetype": "text/x-python",
   "name": "python",
   "nbconvert_exporter": "python",
   "pygments_lexer": "ipython3",
   "version": "3.7.0"
  }
 },
 "nbformat": 4,
 "nbformat_minor": 2
}
