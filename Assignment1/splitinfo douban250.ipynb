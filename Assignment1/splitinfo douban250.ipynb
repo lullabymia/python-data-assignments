{
 "cells": [
  {
   "cell_type": "code",
   "execution_count": 23,
   "metadata": {},
   "outputs": [],
   "source": [
    "import requests\n",
    "r=requests.get('https://movie.douban.com/top250')\n",
    "import bs4\n",
    "mypage = bs4.BeautifulSoup(r.text)\n",
    "allmovie=mypage.find('ol')\n",
    "movie1=allmovie.find_all('li')"
   ]
  },
  {
   "cell_type": "code",
   "execution_count": 24,
   "metadata": {},
   "outputs": [
    {
     "data": {
      "text/plain": [
       "25"
      ]
     },
     "execution_count": 24,
     "metadata": {},
     "output_type": "execute_result"
    }
   ],
   "source": [
    "movie1\n",
    "len(movie1)"
   ]
  },
  {
   "cell_type": "code",
   "execution_count": 25,
   "metadata": {},
   "outputs": [],
   "source": [
    "haha = allmovie.find(attrs={'class': 'bd'}).text.strip()"
   ]
  },
  {
   "cell_type": "code",
   "execution_count": 26,
   "metadata": {},
   "outputs": [],
   "source": [
    "director, rest = haha.split('\\xa0\\xa0\\xa0')"
   ]
  },
  {
   "cell_type": "code",
   "execution_count": 27,
   "metadata": {},
   "outputs": [],
   "source": [
    "director = director.split()[1]\n"
   ]
  },
  {
   "cell_type": "code",
   "execution_count": 28,
   "metadata": {},
   "outputs": [],
   "source": [
    "country = rest.split('\\xa0/\\xa0')[1]"
   ]
  },
  {
   "cell_type": "code",
   "execution_count": null,
   "metadata": {},
   "outputs": [],
   "source": []
  },
  {
   "cell_type": "code",
   "execution_count": null,
   "metadata": {},
   "outputs": [],
   "source": []
  },
  {
   "cell_type": "code",
   "execution_count": null,
   "metadata": {},
   "outputs": [],
   "source": []
  },
  {
   "cell_type": "code",
   "execution_count": null,
   "metadata": {},
   "outputs": [],
   "source": []
  },
  {
   "cell_type": "code",
   "execution_count": 29,
   "metadata": {},
   "outputs": [],
   "source": [
    "title = allmovie.find(attrs={'class': 'title'}).text"
   ]
  },
  {
   "cell_type": "code",
   "execution_count": 30,
   "metadata": {},
   "outputs": [],
   "source": [
    "rank = allmovie.find(attrs={'class': 'rating_num'}).text"
   ]
  },
  {
   "cell_type": "code",
   "execution_count": 31,
   "metadata": {},
   "outputs": [],
   "source": [
    "comment = allmovie.find(attrs={'class':'star'}).text.split('\\n\\n')[2].strip()"
   ]
  },
  {
   "cell_type": "code",
   "execution_count": 32,
   "metadata": {},
   "outputs": [
    {
     "data": {
      "text/plain": [
       "[('肖申克的救赎', '9.6', '1187862人评价', '弗兰克·德拉邦特', '美国'),\n",
       " ('霸王别姬', '9.6', '872212人评价', '陈凯歌', '中国大陆 香港'),\n",
       " ('这个杀手不太冷', '9.4', '1094276人评价', '吕克·贝松', '法国'),\n",
       " ('阿甘正传', '9.4', '936521人评价', 'Robert', '美国'),\n",
       " ('美丽人生', '9.5', '547075人评价', '罗伯托·贝尼尼', '意大利'),\n",
       " ('泰坦尼克号', '9.3', '872620人评价', '詹姆斯·卡梅隆', '美国'),\n",
       " ('千与千寻', '9.3', '866249人评价', '宫崎骏', '日本'),\n",
       " ('辛德勒的名单', '9.5', '492227人评价', '史蒂文·斯皮尔伯格', '美国'),\n",
       " ('盗梦空间', '9.3', '955406人评价', '克里斯托弗·诺兰', '美国 英国'),\n",
       " ('机器人总动员', '9.3', '633237人评价', '安德鲁·斯坦顿', '美国'),\n",
       " ('忠犬八公的故事', '9.3', '616337人评价', '莱塞·霍尔斯道姆', '美国 英国'),\n",
       " ('三傻大闹宝莱坞', '9.2', '855096人评价', '拉库马·希拉尼', '印度'),\n",
       " ('海上钢琴师', '9.2', '714920人评价', '朱塞佩·托纳多雷', '意大利'),\n",
       " ('放牛班的春天', '9.2', '587177人评价', '克里斯托夫·巴拉蒂', '法国 瑞士 德国'),\n",
       " ('大话西游之大圣娶亲', '9.2', '646845人评价', '刘镇伟', '香港 中国大陆'),\n",
       " ('楚门的世界', '9.2', '627015人评价', '彼得·威尔', '美国'),\n",
       " ('教父', '9.2', '433494人评价', '弗朗西斯·福特·科波拉', '美国'),\n",
       " ('龙猫', '9.1', '530712人评价', '宫崎骏', '日本'),\n",
       " ('星际穿越', '9.2', '643664人评价', '克里斯托弗·诺兰', '美国 英国 加拿大 冰岛'),\n",
       " ('熔炉', '9.2', '362603人评价', '黄东赫', '韩国'),\n",
       " ('无间道', '9.1', '530961人评价', '刘伟强', '香港'),\n",
       " ('触不可及', '9.2', '461154人评价', '奥利维·那卡什', '法国'),\n",
       " ('当幸福来敲门', '9.0', '690006人评价', '加布里尔·穆奇诺', '美国'),\n",
       " ('乱世佳人', '9.2', '330182人评价', '维克多·弗莱明', '美国'),\n",
       " ('怦然心动', '9.0', '741586人评价', '罗伯·莱纳', '美国')]"
      ]
     },
     "execution_count": 32,
     "metadata": {},
     "output_type": "execute_result"
    }
   ],
   "source": [
    "info = []\n",
    "for i in movie1:\n",
    "        title=i.find(attrs={'class': 'title'}).text\n",
    "        rank=i.find(attrs={'class': 'rating_num'}).text\n",
    "        comment = i.find(attrs={'class':'star'}).text.split('\\n\\n')[2].strip()\n",
    "        haha = i.find(attrs={'class': 'bd'}).text.strip()\n",
    "        director, rest = haha.split('\\xa0\\xa0\\xa0')\n",
    "        director = director.split()[1]\n",
    "        country = rest.split('\\xa0/\\xa0')[1]\n",
    "        \n",
    "    \n",
    "        info.append((title,rank,comment,director,country)\n",
    "                    )\n",
    "info"
   ]
  },
  {
   "cell_type": "code",
   "execution_count": 33,
   "metadata": {},
   "outputs": [],
   "source": [
    "data=[]\n",
    "import csv\n",
    "with open('bestdouban.csv','w')as f:\n",
    "    mywriter=csv.writer(f)\n",
    "    mywriter.writerows(info)\n",
    "f.close()\n"
   ]
  },
  {
   "cell_type": "code",
   "execution_count": null,
   "metadata": {},
   "outputs": [],
   "source": []
  }
 ],
 "metadata": {
  "kernelspec": {
   "display_name": "Python 3",
   "language": "python",
   "name": "python3"
  },
  "language_info": {
   "codemirror_mode": {
    "name": "ipython",
    "version": 3
   },
   "file_extension": ".py",
   "mimetype": "text/x-python",
   "name": "python",
   "nbconvert_exporter": "python",
   "pygments_lexer": "ipython3",
   "version": "3.7.0"
  }
 },
 "nbformat": 4,
 "nbformat_minor": 2
}
